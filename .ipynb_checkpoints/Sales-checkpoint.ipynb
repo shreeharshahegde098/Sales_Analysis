{
 "cells": [
  {
   "cell_type": "code",
   "execution_count": 1,
   "id": "3937d509-0d75-422b-a071-cda2de4171c5",
   "metadata": {},
   "outputs": [
    {
     "name": "stdout",
     "output_type": "stream",
     "text": [
      "      OrderID   OrderDate CustomerID  CustomerName Region    Product  \\\n",
      "0        1001  2023-09-16       C103  Customer_168  South     Tablet   \n",
      "1        1002  2023-09-03       C180  Customer_113   East    Printer   \n",
      "2        1003  2023-05-16       C093   Customer_83  South     Laptop   \n",
      "3        1004  2023-10-07       C015   Customer_42  South  Desk Lamp   \n",
      "4        1005  2023-09-28       C107  Customer_169   East    Printer   \n",
      "...       ...         ...        ...           ...    ...        ...   \n",
      "1025     1236  2023-03-29       C145           NaN   West    Printer   \n",
      "1026     1102  2023-11-28       C045   Customer_94   East  Bookshelf   \n",
      "1027     1987  2023-08-24       C025   Customer_86   East     Laptop   \n",
      "1028     1903  2023-12-26       C008  Customer_185  North  Bookshelf   \n",
      "1029     1948  2023-11-26       C081  Customer_126  South   Notebook   \n",
      "\n",
      "         Category  Quantity  UnitPrice  Discount  \n",
      "0     electronics        10        300      0.05  \n",
      "1     electronics        10        200       NaN  \n",
      "2     electronics         4        700      0.15  \n",
      "3       Furniture         8         35      0.15  \n",
      "4     electronics         6        200      0.00  \n",
      "...           ...       ...        ...       ...  \n",
      "1025  electronics         1        200      0.00  \n",
      "1026    Furniture         1        150      0.05  \n",
      "1027  electronics         5        700      0.15  \n",
      "1028    Furniture         8        150      0.05  \n",
      "1029   Stationery         3          5      0.10  \n",
      "\n",
      "[1030 rows x 10 columns]\n"
     ]
    }
   ],
   "source": [
    "import pandas as pd\n",
    "\n",
    "sales = pd.read_excel('retail_sales_raw.xlsx')\n",
    "\n",
    "print(sales)"
   ]
  },
  {
   "cell_type": "code",
   "execution_count": 3,
   "id": "88bcf305-c45c-40ba-bfe2-35dffb52dd4e",
   "metadata": {},
   "outputs": [
    {
     "name": "stdout",
     "output_type": "stream",
     "text": [
      "Collecting openpyxl\n",
      "  Downloading openpyxl-3.1.5-py2.py3-none-any.whl.metadata (2.5 kB)\n",
      "Collecting et-xmlfile (from openpyxl)\n",
      "  Downloading et_xmlfile-2.0.0-py3-none-any.whl.metadata (2.7 kB)\n",
      "Downloading openpyxl-3.1.5-py2.py3-none-any.whl (250 kB)\n",
      "   ---------------------------------------- 0.0/250.9 kB ? eta -:--:--\n",
      "   - -------------------------------------- 10.2/250.9 kB ? eta -:--:--\n",
      "   -------------- ------------------------- 92.2/250.9 kB 1.3 MB/s eta 0:00:01\n",
      "   ---------------------------------------- 250.9/250.9 kB 2.6 MB/s eta 0:00:00\n",
      "Downloading et_xmlfile-2.0.0-py3-none-any.whl (18 kB)\n",
      "Installing collected packages: et-xmlfile, openpyxl\n",
      "Successfully installed et-xmlfile-2.0.0 openpyxl-3.1.5\n",
      "Note: you may need to restart the kernel to use updated packages.\n"
     ]
    },
    {
     "name": "stderr",
     "output_type": "stream",
     "text": [
      "\n",
      "[notice] A new release of pip is available: 24.0 -> 25.2\n",
      "[notice] To update, run: python.exe -m pip install --upgrade pip\n"
     ]
    }
   ],
   "source": [
    "pip install openpyxl"
   ]
  },
  {
   "cell_type": "code",
   "execution_count": 4,
   "id": "616ce5a5-bed0-4025-a7fc-a107048e0ffd",
   "metadata": {},
   "outputs": [
    {
     "name": "stdout",
     "output_type": "stream",
     "text": [
      "\f",
      "\n"
     ]
    }
   ],
   "source": [
    "clear"
   ]
  },
  {
   "cell_type": "code",
   "execution_count": 5,
   "id": "7a6ea03c-4723-4861-857f-e54dc5a364f1",
   "metadata": {},
   "outputs": [
    {
     "name": "stdout",
     "output_type": "stream",
     "text": [
      "      OrderID   OrderDate CustomerID  CustomerName Region    Product  \\\n",
      "0        1001  2023-09-16       C103  Customer_168  South     Tablet   \n",
      "1        1002  2023-09-03       C180  Customer_113   East    Printer   \n",
      "2        1003  2023-05-16       C093   Customer_83  South     Laptop   \n",
      "3        1004  2023-10-07       C015   Customer_42  South  Desk Lamp   \n",
      "4        1005  2023-09-28       C107  Customer_169   East    Printer   \n",
      "...       ...         ...        ...           ...    ...        ...   \n",
      "1025     1236  2023-03-29       C145           NaN   West    Printer   \n",
      "1026     1102  2023-11-28       C045   Customer_94   East  Bookshelf   \n",
      "1027     1987  2023-08-24       C025   Customer_86   East     Laptop   \n",
      "1028     1903  2023-12-26       C008  Customer_185  North  Bookshelf   \n",
      "1029     1948  2023-11-26       C081  Customer_126  South   Notebook   \n",
      "\n",
      "         Category  Quantity  UnitPrice  Discount  \n",
      "0     electronics        10        300      0.05  \n",
      "1     electronics        10        200       NaN  \n",
      "2     electronics         4        700      0.15  \n",
      "3       Furniture         8         35      0.15  \n",
      "4     electronics         6        200      0.00  \n",
      "...           ...       ...        ...       ...  \n",
      "1025  electronics         1        200      0.00  \n",
      "1026    Furniture         1        150      0.05  \n",
      "1027  electronics         5        700      0.15  \n",
      "1028    Furniture         8        150      0.05  \n",
      "1029   Stationery         3          5      0.10  \n",
      "\n",
      "[1030 rows x 10 columns]\n"
     ]
    }
   ],
   "source": [
    "import pandas as pd\n",
    "\n",
    "sales = pd.read_excel('retail_sales_raw.xlsx')\n",
    "\n",
    "print(sales)"
   ]
  },
  {
   "cell_type": "code",
   "execution_count": 27,
   "id": "1614210a-fe6d-4941-899e-29fb977221f5",
   "metadata": {},
   "outputs": [
    {
     "name": "stdout",
     "output_type": "stream",
     "text": [
      "<class 'pandas.core.frame.DataFrame'>\n",
      "RangeIndex: 1030 entries, 0 to 1029\n",
      "Data columns (total 10 columns):\n",
      " #   Column        Non-Null Count  Dtype  \n",
      "---  ------        --------------  -----  \n",
      " 0   OrderID       1030 non-null   int64  \n",
      " 1   OrderDate     1030 non-null   object \n",
      " 2   CustomerID    1030 non-null   object \n",
      " 3   CustomerName  978 non-null    object \n",
      " 4   Region        980 non-null    object \n",
      " 5   Product       1030 non-null   object \n",
      " 6   Category      1030 non-null   object \n",
      " 7   Quantity      1030 non-null   int64  \n",
      " 8   UnitPrice     1030 non-null   int64  \n",
      " 9   Discount      979 non-null    float64\n",
      "dtypes: float64(1), int64(3), object(6)\n",
      "memory usage: 80.6+ KB\n",
      "     OrderID  OrderDate CustomerID  CustomerName Region       Product     Category  Quantity  UnitPrice  Discount\n",
      "0       1001 2023-09-16       C103  Customer_168  South        Tablet  electronics        10        300      0.05\n",
      "1       1002 2023-09-03       C180  Customer_113   East       Printer  electronics        10        200      0.00\n",
      "2       1003 2023-05-16       C093   Customer_83  South        Laptop  electronics         4        700      0.15\n",
      "3       1004 2023-10-07       C015   Customer_42  South     Desk Lamp    Furniture         8         35      0.15\n",
      "4       1005 2023-09-28       C107  Customer_169   East       Printer  electronics         6        200      0.00\n",
      "..       ...        ...        ...           ...    ...           ...          ...       ...        ...       ...\n",
      "995     1996 2023-04-16       C111  Customer_158  North      Notebook   Stationery         7          5      0.15\n",
      "996     1997 2023-03-11       C111  Customer_161   West  Office Chair    Furniture         7        120      0.15\n",
      "997     1998 2023-07-14       C034   Customer_77   East        Laptop  electronics         6        700      0.00\n",
      "998     1999 2023-07-05       C111  Customer_116   West     Desk Lamp    Furniture         8         35      0.05\n",
      "999     2000 2023-04-09       C008  Customer_154  North     Desk Lamp    Furniture         4         35      0.10\n",
      "\n",
      "[1000 rows x 10 columns]\n",
      "\n",
      "      OrderID  OrderDate CustomerID  CustomerName Region       Product     Category  Quantity  UnitPrice  Discount\n",
      "825     1826 2023-12-29       C001  Customer_192   East     Desk Lamp    Furniture         1         35      0.00\n",
      "709     1710 2023-01-15       C001   Customer_99   West       Pen Set   Stationery        10          2      0.05\n",
      "741     1742 2023-02-25       C001    Customer_9  South  mobile_phone  electronics        10        400      0.10\n",
      "950     1951 2023-04-15       C001  Customer_166   West        Tablet  electronics         6        300      0.10\n",
      "137     1138 2023-10-19       C001   Customer_89   East       Pen Set   Stationery         3          2      0.15\n"
     ]
    },
    {
     "data": {
      "image/png": "[encoded data removed]",
      "text/plain": [
       "<Figure size 640x480 with 1 Axes>"
      ]
     },
     "metadata": {},
     "output_type": "display_data"
    },
    {
     "data": {
      "image/png": "[encoded data removed]",
      "text/plain": [
       "<Figure size 640x480 with 1 Axes>"
      ]
     },
     "metadata": {},
     "output_type": "display_data"
    },
    {
     "name": "stdout",
     "output_type": "stream",
     "text": [
      "\n",
      "#########################################################################################################################################\n",
      "\n",
      " AFTER CLEANING\n",
      "\n",
      "Max_revenue 7000.0\n",
      "\n",
      " Min value =  1.8\n",
      "\n",
      " Mean 1021.410582306831\n",
      "\n",
      " Median 540.0\n",
      "\n",
      " standard_dev 1319.7743556427426\n",
      "\n",
      " Mode 0    1020.0\n",
      "Name: Revenue, dtype: float64\n",
      "\n",
      " Category\n",
      "electronics    458\n",
      "Furniture      269\n",
      "Stationery     166\n",
      "Name: count, dtype: int64\n",
      "\n",
      "          Discount      Revenue    Quantity\n",
      "count  893.000000   893.000000  893.000000\n",
      "mean     0.073964  1021.410582    5.490482\n",
      "std      0.057578  1319.774356    2.914162\n",
      "min      0.000000     1.800000    1.000000\n",
      "25%      0.000000   127.500000    3.000000\n",
      "50%      0.050000   540.000000    6.000000\n",
      "75%      0.150000  1350.000000    8.000000\n",
      "max      0.150000  7000.000000   10.000000\n"
     ]
    }
   ],
   "source": [
    "import pandas as pd\n",
    "\n",
    "import matplotlib.pyplot as plt\n",
    "\n",
    "sales = pd.read_excel('retail_sales_raw.xlsx')\n",
    "\n",
    "# pd.set_option(\"display.max_columns\", None)  # show all columns\n",
    "pd.set_option(\"display.width\", 200) \n",
    "\n",
    "sales.info()\n",
    "\n",
    "sales.shape\n",
    "\n",
    "sales['CustomerName']=sales['CustomerName'].fillna(\"Unknown\")\n",
    "\n",
    "\n",
    "sales['Region']=sales['Region'].fillna(\"Unknown\")\n",
    "\n",
    "sales['Discount']=sales['Discount'].fillna(0)\n",
    "\n",
    "sales['Quantity'] = pd.to_numeric(sales['Quantity'], errors='coerce')\n",
    "\n",
    "sales['OrderDate'] = pd.to_datetime(sales['OrderDate'], errors='coerce')\n",
    "\n",
    "\n",
    "sales.drop_duplicates(inplace=True)\n",
    "\n",
    "# filtered = sales.filter([\"OrderID\",\"OrderDate\"]).head()\n",
    "# print(filtered)\n",
    "\n",
    "print(sales)\n",
    "\n",
    "# sorted_values = sales.sort_values([\"CustomerID\"])\n",
    "sorted_values = sales.sort_values(by=\"CustomerID\", ascending= True)\n",
    "print(\"\\n\", sorted_values.head())\n",
    "\n",
    "\n",
    "\n",
    "\n",
    "sales.to_excel('raw_data_cleaned.xlsx', index = False)\n",
    "\n",
    "\n",
    "plt.boxplot(sales['Discount'])\n",
    "\n",
    "plt.title(\"Discount Range\")\n",
    "\n",
    "plt.legend(['Discount'])\n",
    "\n",
    "\n",
    "plt.show()\n",
    "\n",
    "category_sum = sales.groupby('Category')['Quantity'].sum()\n",
    "\n",
    "# Plot the bar chart\n",
    "plt.bar(category_sum.index, category_sum.values)\n",
    "\n",
    "plt.xlabel('Category')\n",
    "\n",
    "plt.ylabel('Total Quantity Sold')\n",
    "\n",
    "plt.title('Total Quantity Sold per each Category')\n",
    "\n",
    "plt.show()\n",
    "\n",
    "\n",
    "\n",
    "print(\"\\n#########################################################################################################################################\")\n",
    "print(\"\\n AFTER CLEANING\")\n",
    "\n",
    "\n",
    "\n",
    "\n",
    "\n",
    "sales_clean=pd.read_csv('raw_data_cleaned.csv')\n",
    "# max_revenue=df['Revenue'].max()\n",
    "max_revenue = sales_clean['Revenue'].max()\n",
    "print(\"\\nMax_revenue\", max_revenue)\n",
    "\n",
    "min_value = sales_clean['Revenue'].min()\n",
    "print(\"\\n Min value = \", min_value)\n",
    "\n",
    "mean=sales_clean['Revenue'].mean()\n",
    "print(\"\\n Mean\", mean)\n",
    "\n",
    "median=sales_clean['Revenue'].median()\n",
    "print(\"\\n Median\", median)\n",
    "\n",
    "standard_dev=sales_clean['Revenue'].std()\n",
    "print(\"\\n standard_dev\",standard_dev)\n",
    "\n",
    "\n",
    "\n",
    "mode=sales_clean['Revenue'].mode()\n",
    "print(\"\\n Mode\", mode)\n",
    "\n",
    "\n",
    "count=sales_clean.value_counts(\"Category\")\n",
    "print(\"\\n\",count)\n",
    "\n",
    "desc=sales_clean[[\"Discount\",\"Revenue\",\"Quantity\"]].describe()\n",
    "print(\"\\n\",desc)\n",
    "\n",
    "\n",
    "\n",
    "# print(\"\\n\", sales.head())\n",
    "\n",
    "\n",
    "\n",
    "# print(\"\\n \", sales.tail())"
   ]
  },
  {
   "cell_type": "code",
   "execution_count": null,
   "id": "37bf0696-870d-4a8f-9dd5-e99ed6e80573",
   "metadata": {},
   "outputs": [],
   "source": []
  }
 ],
 "metadata": {
  "kernelspec": {
   "display_name": "Python 3 (ipykernel)",
   "language": "python",
   "name": "python3"
  },
  "language_info": {
   "codemirror_mode": {
    "name": "ipython",
    "version": 3
   },
   "file_extension": ".py",
   "mimetype": "text/x-python",
   "name": "python",
   "nbconvert_exporter": "python",
   "pygments_lexer": "ipython3",
   "version": "3.12.4"
  }
 },
 "nbformat": 4,
 "nbformat_minor": 5
}
